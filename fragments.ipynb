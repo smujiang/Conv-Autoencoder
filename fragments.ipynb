{
 "cells": [
  {
   "cell_type": "code",
   "execution_count": null,
   "metadata": {
    "collapsed": true
   },
   "outputs": [],
   "source": [
    "import numpy as np\n",
    "import matplotlib.pyplot as plt\n",
    "\n",
    "cmap = plt.get_cmap(\"jet\")\n",
    "\n",
    "cmap_val = np.array(cmap(0.6)*255).astype(np.uint8)\n",
    "heat_map_img = np.zeros([512, 512, 4]).astype(np.uint8)\n",
    "heat_map_img[12:24, 20:32, :] = np.repeat(cmap_val, [12, 12])\n",
    "\n",
    "plt.imshow(heat_map_img)\n",
    "plt.show()\n",
    "\n",
    "\n",
    "\n",
    "\n",
    "\n"
   ]
  }
 ],
 "metadata": {
  "language_info": {
   "codemirror_mode": {
    "name": "ipython",
    "version": 2
   },
   "file_extension": ".py",
   "mimetype": "text/x-python",
   "name": "python",
   "nbconvert_exporter": "python",
   "pygments_lexer": "ipython2",
   "version": "2.7.6"
  },
  "kernelspec": {
   "name": "python3",
   "language": "python",
   "display_name": "Python 3"
  },
  "pycharm": {
   "stem_cell": {
    "cell_type": "raw",
    "source": [],
    "metadata": {
     "collapsed": false
    }
   }
  }
 },
 "nbformat": 4,
 "nbformat_minor": 0
}